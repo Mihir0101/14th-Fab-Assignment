{
 "cells": [
  {
   "cell_type": "markdown",
   "id": "a91921ff-d747-4b72-a8c2-0ea87a899608",
   "metadata": {},
   "source": [
    "# 14th Fab Assignment"
   ]
  },
  {
   "cell_type": "markdown",
   "id": "be52f05f-99bd-445a-bdba-e667267464aa",
   "metadata": {},
   "source": [
    "------------------------------------------------------------------------------------------------------------------------------------------------"
   ]
  },
  {
   "cell_type": "markdown",
   "id": "8705c49a-b5af-4bcc-b13c-06f35ce2a352",
   "metadata": {},
   "source": [
    "Q1. What is multithreading in python? Why is it used? Name the module used to handle threads in python"
   ]
  },
  {
   "cell_type": "markdown",
   "id": "cb796937-2caf-47b5-857b-6176748a5595",
   "metadata": {},
   "source": [
    "-> Multithreading is a concept of executing multiple threads of a process.\n",
    "\n",
    "-> If we want to execute multiple threads of a process in a single processor , that is something call as \" Multithreading \" .\n",
    "\n",
    "-> We can also call multithreading as multiprogramming."
   ]
  },
  {
   "cell_type": "markdown",
   "id": "ef0e72e0-3093-4f1c-8559-5c59c11b3a96",
   "metadata": {},
   "source": [
    "* Reasons of using Multithreading\n",
    "\n",
    "-> It improve the performance of program.\n",
    "\n",
    "-> It increase the overall throughput of the program.\n",
    "\n",
    "-> Multithreadin is used in python for web scrapping. "
   ]
  },
  {
   "cell_type": "markdown",
   "id": "fccaf7f0-3982-4407-9c39-aa1ce447ebe1",
   "metadata": {},
   "source": [
    "* The module used to handle threads in python is called \" threading \"."
   ]
  },
  {
   "cell_type": "markdown",
   "id": "8045d13b-19e3-4208-98ba-b3248d2ed58d",
   "metadata": {},
   "source": [
    "------------------------------------------------------------------------------------------------------------------------------------------------"
   ]
  },
  {
   "cell_type": "markdown",
   "id": "834de993-d2eb-417e-abdb-ea5b8c17dc0d",
   "metadata": {},
   "source": [
    "Q2. Why threading module used? Write the use of the following functions\n",
    "\n",
    "1.run()\n",
    "\n",
    "2.start()\n",
    "\n",
    "3.join()\n",
    "\n",
    "4.isAlive()"
   ]
  },
  {
   "cell_type": "markdown",
   "id": "e0bc903a-8ae0-4f5b-a5b6-2d51a83f3faa",
   "metadata": {},
   "source": [
    "* threading module is used to implement multithreading in python.In multithreading the program is divided inoto multiple threads.It allows the the processor to execute multipule threads simultaniously.Because of multithreading program become efficience and faster."
   ]
  },
  {
   "cell_type": "markdown",
   "id": "f973bbd9-8af9-4062-a945-160971849c75",
   "metadata": {},
   "source": [
    "1.activeCount()\n",
    "\n",
    "-> The activeCount() is used to get number of active threads in a python program."
   ]
  },
  {
   "cell_type": "markdown",
   "id": "454be500-5281-4dc1-bc11-3ef8d61fa8c3",
   "metadata": {},
   "source": [
    "2. currentThread()\n",
    "\n",
    "-> The currentThread() function is used for identify thread,manage threads and implement the storage of threads."
   ]
  },
  {
   "cell_type": "markdown",
   "id": "726966b4-5ef9-4922-8e01-1abdce43681e",
   "metadata": {},
   "source": [
    "3. enumerate()\n",
    "\n",
    "-> The enumerate() function is used for looping over the element using their index,creating dictionary and filtering elements based on their positions."
   ]
  },
  {
   "cell_type": "markdown",
   "id": "fd8c30ee-ab1e-427d-ad9d-903fdf5dbc85",
   "metadata": {},
   "source": [
    "------------------------------------------------------------------------------------------------------------------------------------------------"
   ]
  },
  {
   "cell_type": "markdown",
   "id": "0eb84aea-5836-4a56-8cb4-3d2357b09be0",
   "metadata": {},
   "source": [
    "Q3. Explain the following functions."
   ]
  },
  {
   "cell_type": "markdown",
   "id": "e34a1468-53a2-4ba3-b43f-ed5fa9a531d7",
   "metadata": {},
   "source": [
    "1.run()\n",
    "\n",
    "-> The run() method is used to define the behavior of a thread when it is run. \n",
    "\n",
    "-> The run() method is automatically called by the start() method when the thread is started"
   ]
  },
  {
   "cell_type": "markdown",
   "id": "11695889-9a70-4965-9a9e-087d3d028834",
   "metadata": {},
   "source": [
    "2.start()\n",
    "\n",
    "-> The start() method is used to start a thread by calling the run() method.\n",
    "\n",
    "-> The start() method should only be called once on a given thread object. "
   ]
  },
  {
   "cell_type": "markdown",
   "id": "6d0973de-ffcf-4f91-8554-b47ca726ff4d",
   "metadata": {},
   "source": [
    "3.join()\n",
    "\n",
    "-> The join() function is used for wait of complete execution of thread before new line of code starts.\n",
    "\n",
    "-> When you call the join() method on a thread object, the current thread will block until the target thread completes its execution."
   ]
  },
  {
   "cell_type": "markdown",
   "id": "4b803944-bf59-40b0-9bba-7d9375a353bc",
   "metadata": {},
   "source": [
    "4.isAlive() \n",
    "\n",
    "-> The isAlive() function is used to check wether the thread is currently running or not.\n",
    "\n",
    "-> When you call the isAlive() method on a thread object, it will return True if the thread is still executing, and False if it has completed its execution."
   ]
  },
  {
   "cell_type": "markdown",
   "id": "e8f64324-75f4-4086-8f64-191c2d10a791",
   "metadata": {},
   "source": [
    "------------------------------------------------------------------------------------------------------------------------------------------------"
   ]
  },
  {
   "cell_type": "markdown",
   "id": "3c6007ee-272a-4f29-8efe-1110cdf2e288",
   "metadata": {},
   "source": [
    "Q4. Write a python program to create two threads. Thread one must print the list of squares and thread\n",
    "two must print the list of cubes."
   ]
  },
  {
   "cell_type": "code",
   "execution_count": 3,
   "id": "ee5724a6-48f3-49bc-b71c-6c787fe03965",
   "metadata": {},
   "outputs": [],
   "source": [
    "import threading"
   ]
  },
  {
   "cell_type": "code",
   "execution_count": 18,
   "id": "729f21eb-eeac-4fe9-8acb-c0ad7798cfa8",
   "metadata": {},
   "outputs": [],
   "source": [
    "def square():\n",
    "    for i in range(11):\n",
    "        print(i*i)\n",
    "        \n",
    "\n",
    "def cube():\n",
    "    for i in range(11):\n",
    "        print(i*i*i)"
   ]
  },
  {
   "cell_type": "code",
   "execution_count": 19,
   "id": "8789a968-fe64-4439-9a26-76246588a0ff",
   "metadata": {},
   "outputs": [
    {
     "name": "stdout",
     "output_type": "stream",
     "text": [
      "0\n",
      "1\n",
      "4\n",
      "9\n",
      "16\n",
      "25\n",
      "36\n",
      "49\n",
      "64\n",
      "81\n",
      "100\n",
      "0\n",
      "1\n",
      "8\n",
      "27\n",
      "64\n",
      "125\n",
      "216\n",
      "343\n",
      "512\n",
      "729\n",
      "1000\n"
     ]
    }
   ],
   "source": [
    "if __name__ == '__main__':\n",
    "    s=threading.Thread(target=square)\n",
    "    c=threading.Thread(target=cube)\n",
    "    \n",
    "    s.start()\n",
    "    c.start()\n",
    "    \n",
    "    s.join()\n",
    "    c.join()"
   ]
  },
  {
   "cell_type": "markdown",
   "id": "865222cb-8b86-40da-b7aa-4a6daf1add73",
   "metadata": {},
   "source": [
    "------------------------------------------------------------------------------------------------------------------------------------------------"
   ]
  },
  {
   "cell_type": "markdown",
   "id": "7f5d18be-8727-442f-9d6b-ed39c69b4da3",
   "metadata": {},
   "source": [
    "Q5. Advantages and Disadvantages of Multithreading."
   ]
  },
  {
   "cell_type": "markdown",
   "id": "4bcac472-659f-49a5-9743-4dfef1369b79",
   "metadata": {},
   "source": [
    "* Advantages:\n",
    "\n",
    "1.Improved performance: Multithreading can improve the performance of a program by allowing it to take advantage of multiple CPUs or CPU cores. This can result in faster execution times and better resource utilization.\n",
    "\n",
    "2.Responsiveness: Multithreading can improve the responsiveness of a program by allowing it to continue executing other tasks while waiting for a particular task to complete. This can improve the overall user experience by reducing the perceived latency of the application.\n",
    "\n",
    "3.Better resource utilization: Multithreading can improve the utilization of system resources such as CPU, memory, and I/O devices by allowing different threads to execute in parallel.\n",
    "\n"
   ]
  },
  {
   "cell_type": "markdown",
   "id": "add298d9-9abc-424c-a296-b8e1a5d695a0",
   "metadata": {},
   "source": [
    "* Disadvantages:\n",
    "\n",
    "1.Complexity: Multithreading can add complexity to a program, making it more difficult to design, implement, and debug. Multithreaded programs are also more susceptible to race conditions and other concurrency-related bugs.\n",
    "\n",
    "2.Synchronization overhead: Multithreading requires synchronization mechanisms such as locks, semaphores, and condition variables to coordinate access to shared resources. This can introduce additional overhead and reduce performance.\n",
    "\n",
    "3.Scalability issues: Multithreading can be limited by factors such as the number of available CPU cores, the amount of available memory, and the nature of the workload "
   ]
  },
  {
   "cell_type": "markdown",
   "id": "c983be0a-3763-494a-baca-b2b0bf5a2531",
   "metadata": {},
   "source": [
    "------------------------------------------------------------------------------------------------------------------------------------------------"
   ]
  },
  {
   "cell_type": "markdown",
   "id": "5aa211a8-1d42-4062-9aab-2994f27475cf",
   "metadata": {},
   "source": [
    "Q6. Explain deadlocks and race conditions."
   ]
  },
  {
   "cell_type": "markdown",
   "id": "981d2c47-f4be-46d8-8b23-ffbb558d07a0",
   "metadata": {},
   "source": [
    "* Deadlock\n",
    "\n",
    "A deadlock occurs when two or more threads are blocked and unable to proceed because they are waiting for each other to release a resource. This situation can arise when multiple threads are competing for exclusive access to a shared resource such as a mutex or semaphore."
   ]
  },
  {
   "cell_type": "code",
   "execution_count": null,
   "id": "6f47d9a5-c104-4fbb-9a49-39752bca47ef",
   "metadata": {},
   "outputs": [],
   "source": [
    "* Semaphore\n",
    "\n",
    "A race condition occurs when two or more threads access a shared resource concurrently and the outcome depends on the relative timing of the accesses. This situation can arise when multiple threads read and write to the same memory location without proper synchronization. "
   ]
  }
 ],
 "metadata": {
  "kernelspec": {
   "display_name": "Python 3 (ipykernel)",
   "language": "python",
   "name": "python3"
  },
  "language_info": {
   "codemirror_mode": {
    "name": "ipython",
    "version": 3
   },
   "file_extension": ".py",
   "mimetype": "text/x-python",
   "name": "python",
   "nbconvert_exporter": "python",
   "pygments_lexer": "ipython3",
   "version": "3.10.8"
  }
 },
 "nbformat": 4,
 "nbformat_minor": 5
}
